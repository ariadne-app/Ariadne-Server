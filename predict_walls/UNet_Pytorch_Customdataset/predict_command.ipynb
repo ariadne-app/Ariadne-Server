{
 "cells": [
  {
   "cell_type": "code",
   "execution_count": 6,
   "metadata": {},
   "outputs": [
    {
     "name": "stdout",
     "output_type": "stream",
     "text": [
      "Defaulting to user installation because normal site-packages is not writeable\n",
      "Requirement already satisfied: matplotlib==3.6.2 in /home/dimitris/.local/lib/python3.10/site-packages (from -r ../../assets/unet_requirements.txt (line 1)) (3.6.2)\n",
      "Requirement already satisfied: numpy==1.23.5 in /home/dimitris/.local/lib/python3.10/site-packages (from -r ../../assets/unet_requirements.txt (line 2)) (1.23.5)\n",
      "Requirement already satisfied: Pillow==9.3.0 in /home/dimitris/.local/lib/python3.10/site-packages (from -r ../../assets/unet_requirements.txt (line 3)) (9.3.0)\n",
      "Requirement already satisfied: tqdm==4.64.1 in /home/dimitris/.local/lib/python3.10/site-packages (from -r ../../assets/unet_requirements.txt (line 4)) (4.64.1)\n",
      "Requirement already satisfied: wandb==0.13.5 in /home/dimitris/.local/lib/python3.10/site-packages (from -r ../../assets/unet_requirements.txt (line 5)) (0.13.5)\n",
      "Requirement already satisfied: contourpy>=1.0.1 in /usr/local/lib/python3.10/dist-packages (from matplotlib==3.6.2->-r ../../assets/unet_requirements.txt (line 1)) (1.2.1)\n",
      "Requirement already satisfied: cycler>=0.10 in /usr/local/lib/python3.10/dist-packages (from matplotlib==3.6.2->-r ../../assets/unet_requirements.txt (line 1)) (0.12.1)\n",
      "Requirement already satisfied: fonttools>=4.22.0 in /usr/local/lib/python3.10/dist-packages (from matplotlib==3.6.2->-r ../../assets/unet_requirements.txt (line 1)) (4.53.1)\n",
      "Requirement already satisfied: kiwisolver>=1.0.1 in /usr/local/lib/python3.10/dist-packages (from matplotlib==3.6.2->-r ../../assets/unet_requirements.txt (line 1)) (1.4.5)\n",
      "Requirement already satisfied: packaging>=20.0 in /usr/local/lib/python3.10/dist-packages (from matplotlib==3.6.2->-r ../../assets/unet_requirements.txt (line 1)) (24.1)\n",
      "Requirement already satisfied: pyparsing>=2.2.1 in /usr/lib/python3/dist-packages (from matplotlib==3.6.2->-r ../../assets/unet_requirements.txt (line 1)) (2.4.7)\n",
      "Requirement already satisfied: python-dateutil>=2.7 in /home/dimitris/.local/lib/python3.10/site-packages (from matplotlib==3.6.2->-r ../../assets/unet_requirements.txt (line 1)) (2.9.0.post0)\n",
      "Requirement already satisfied: Click!=8.0.0,>=7.0 in /home/dimitris/.local/lib/python3.10/site-packages (from wandb==0.13.5->-r ../../assets/unet_requirements.txt (line 5)) (8.1.7)\n",
      "Requirement already satisfied: GitPython>=1.0.0 in /home/dimitris/.local/lib/python3.10/site-packages (from wandb==0.13.5->-r ../../assets/unet_requirements.txt (line 5)) (3.1.44)\n",
      "Requirement already satisfied: requests<3,>=2.0.0 in /home/dimitris/.local/lib/python3.10/site-packages (from wandb==0.13.5->-r ../../assets/unet_requirements.txt (line 5)) (2.32.3)\n",
      "Requirement already satisfied: promise<3,>=2.0 in /home/dimitris/.local/lib/python3.10/site-packages (from wandb==0.13.5->-r ../../assets/unet_requirements.txt (line 5)) (2.3)\n",
      "Requirement already satisfied: shortuuid>=0.5.0 in /home/dimitris/.local/lib/python3.10/site-packages (from wandb==0.13.5->-r ../../assets/unet_requirements.txt (line 5)) (1.0.13)\n",
      "Requirement already satisfied: psutil>=5.0.0 in /home/dimitris/.local/lib/python3.10/site-packages (from wandb==0.13.5->-r ../../assets/unet_requirements.txt (line 5)) (6.1.0)\n",
      "Requirement already satisfied: sentry-sdk>=1.0.0 in /home/dimitris/.local/lib/python3.10/site-packages (from wandb==0.13.5->-r ../../assets/unet_requirements.txt (line 5)) (2.19.2)\n",
      "Requirement already satisfied: six>=1.13.0 in /usr/lib/python3/dist-packages (from wandb==0.13.5->-r ../../assets/unet_requirements.txt (line 5)) (1.16.0)\n",
      "Requirement already satisfied: docker-pycreds>=0.4.0 in /home/dimitris/.local/lib/python3.10/site-packages (from wandb==0.13.5->-r ../../assets/unet_requirements.txt (line 5)) (0.4.0)\n",
      "Requirement already satisfied: protobuf!=4.0.*,!=4.21.0,<5,>=3.12.0 in /home/dimitris/.local/lib/python3.10/site-packages (from wandb==0.13.5->-r ../../assets/unet_requirements.txt (line 5)) (3.20.3)\n",
      "Requirement already satisfied: PyYAML in /home/dimitris/.local/lib/python3.10/site-packages (from wandb==0.13.5->-r ../../assets/unet_requirements.txt (line 5)) (6.0.2)\n",
      "Requirement already satisfied: pathtools in /home/dimitris/.local/lib/python3.10/site-packages (from wandb==0.13.5->-r ../../assets/unet_requirements.txt (line 5)) (0.1.2)\n",
      "Requirement already satisfied: setproctitle in /home/dimitris/.local/lib/python3.10/site-packages (from wandb==0.13.5->-r ../../assets/unet_requirements.txt (line 5)) (1.3.4)\n",
      "Requirement already satisfied: setuptools in /home/dimitris/.local/lib/python3.10/site-packages (from wandb==0.13.5->-r ../../assets/unet_requirements.txt (line 5)) (75.6.0)\n",
      "Requirement already satisfied: gitdb<5,>=4.0.1 in /home/dimitris/.local/lib/python3.10/site-packages (from GitPython>=1.0.0->wandb==0.13.5->-r ../../assets/unet_requirements.txt (line 5)) (4.0.12)\n",
      "Requirement already satisfied: charset-normalizer<4,>=2 in /home/dimitris/.local/lib/python3.10/site-packages (from requests<3,>=2.0.0->wandb==0.13.5->-r ../../assets/unet_requirements.txt (line 5)) (3.4.0)\n",
      "Requirement already satisfied: idna<4,>=2.5 in /usr/lib/python3/dist-packages (from requests<3,>=2.0.0->wandb==0.13.5->-r ../../assets/unet_requirements.txt (line 5)) (3.3)\n",
      "Requirement already satisfied: urllib3<3,>=1.21.1 in /home/dimitris/.local/lib/python3.10/site-packages (from requests<3,>=2.0.0->wandb==0.13.5->-r ../../assets/unet_requirements.txt (line 5)) (2.3.0)\n",
      "Requirement already satisfied: certifi>=2017.4.17 in /usr/lib/python3/dist-packages (from requests<3,>=2.0.0->wandb==0.13.5->-r ../../assets/unet_requirements.txt (line 5)) (2020.6.20)\n",
      "Requirement already satisfied: smmap<6,>=3.0.1 in /home/dimitris/.local/lib/python3.10/site-packages (from gitdb<5,>=4.0.1->GitPython>=1.0.0->wandb==0.13.5->-r ../../assets/unet_requirements.txt (line 5)) (5.0.2)\n",
      "Note: you may need to restart the kernel to use updated packages.\n"
     ]
    }
   ],
   "source": [
    "%pip install -r ../../assets/unet_requirements.txt"
   ]
  },
  {
   "cell_type": "code",
   "execution_count": 12,
   "metadata": {},
   "outputs": [
    {
     "name": "stdout",
     "output_type": "stream",
     "text": [
      "INFO: Loading model ../../models/checkpoint_epoch500.pth\n",
      "INFO: Using device cpu\n",
      "/home/dimitris/projects/hipeac/Indoor-Navigation/software/web interface/predict_walls/UNet-Pytorch-Customdataset/predict.py:108: FutureWarning: You are using `torch.load` with `weights_only=False` (the current default value), which uses the default pickle module implicitly. It is possible to construct malicious pickle data which will execute arbitrary code during unpickling (See https://github.com/pytorch/pytorch/blob/main/SECURITY.md#untrusted-models for more details). In a future release, the default value for `weights_only` will be flipped to `True`. This limits the functions that could be executed during unpickling. Arbitrary objects will no longer be allowed to be loaded via this mode unless they are explicitly allowlisted by the user via `torch.serialization.add_safe_globals`. We recommend you start setting `weights_only=True` for any use case where you don't have full control of the loaded file. Please open an issue on GitHub for any issues related to this experimental feature.\n",
      "  state_dict = torch.load(args.model, map_location=device)\n",
      "INFO: Model loaded!\n",
      "INFO: Predicting image ../../assets/images/floor_plan_1_crop.jpg ...\n",
      "[[0 0 0 ... 0 0 0]\n",
      " [0 0 0 ... 0 0 0]\n",
      " [0 0 0 ... 0 0 0]\n",
      " ...\n",
      " [0 0 0 ... 0 0 0]\n",
      " [0 0 0 ... 0 0 0]\n",
      " [0 0 0 ... 0 0 0]]\n",
      "INFO: Mask saved to ../../predict_walls/UNet-Pytorch-Customdataset/outputs/image.jpg\n"
     ]
    }
   ],
   "source": [
    "!python3 predict.py --model ../../models/checkpoint_epoch500.pth -i ../../assets/images/floor_plan_1_crop.jpg  --viz --output ../../predict_walls/UNet_Pytorch_Customdataset/outputs/image.jpg  -s 2 -t 0.5 -c 25"
   ]
  }
 ],
 "metadata": {
  "kernelspec": {
   "display_name": "Python 3",
   "language": "python",
   "name": "python3"
  },
  "language_info": {
   "codemirror_mode": {
    "name": "ipython",
    "version": 3
   },
   "file_extension": ".py",
   "mimetype": "text/x-python",
   "name": "python",
   "nbconvert_exporter": "python",
   "pygments_lexer": "ipython3",
   "version": "3.10.12"
  }
 },
 "nbformat": 4,
 "nbformat_minor": 2
}
